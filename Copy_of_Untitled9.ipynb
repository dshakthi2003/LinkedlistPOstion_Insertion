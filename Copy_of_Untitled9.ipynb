{
  "nbformat": 4,
  "nbformat_minor": 0,
  "metadata": {
    "colab": {
      "provenance": [],
      "authorship_tag": "ABX9TyMwKHWl+hdphE6a6tZMZEfc",
      "include_colab_link": true
    },
    "kernelspec": {
      "name": "python3",
      "display_name": "Python 3"
    },
    "language_info": {
      "name": "python"
    }
  },
  "cells": [
    {
      "cell_type": "markdown",
      "metadata": {
        "id": "view-in-github",
        "colab_type": "text"
      },
      "source": [
        "<a href=\"https://colab.research.google.com/github/dshakthi2003/LinkedlistPOstion_Insertion/blob/main/Copy_of_Untitled9.ipynb\" target=\"_parent\"><img src=\"https://colab.research.google.com/assets/colab-badge.svg\" alt=\"Open In Colab\"/></a>"
      ]
    },
    {
      "cell_type": "code",
      "execution_count": null,
      "metadata": {
        "colab": {
          "base_uri": "https://localhost:8080/"
        },
        "id": "J0bUAPpBGCSI",
        "outputId": "c46de3ea-b911-4afd-9d15-a000b5488be0"
      },
      "outputs": [
        {
          "output_type": "stream",
          "name": "stdout",
          "text": [
            "Predicted label: negative\n"
          ]
        }
      ],
      "source": [
        "from sklearn.feature_extraction.text import CountVectorizer\n",
        "from sklearn.naive_bayes import MultinomialNB\n",
        "from sklearn.model_selection import train_test_split\n",
        "corpus = [\"This is the idea\", \"Where are you now\", \"I am the one who knocks\"]\n",
        "labels = [\"positive\", \"neutral\", \"negative\"]\n",
        "vectorizer = CountVectorizer()\n",
        "X = vectorizer.fit_transform(corpus)\n",
        "X_train, X_test, y_train, y_test = train_test_split(X, labels, test_size=0.2, random_state=42)\n",
        "clf = MultinomialNB()\n",
        "clf.fit(X_train, y_train)\n",
        "new_text = [\"I love this idea\",\"yeahh bitch\",\"Suprise muthfucka\"]\n",
        "X_new = vectorizer.transform(new_text)\n",
        "predicted_label = clf.predict(X_new)\n",
        "print(\"Predicted label:\", predicted_label[2])\n",
        "\n",
        "\n"
      ]
    }
  ]
}